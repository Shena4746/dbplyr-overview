{
 "cells": [
  {
   "cell_type": "code",
   "execution_count": 1,
   "metadata": {
    "vscode": {
     "languageId": "r"
    }
   },
   "outputs": [
    {
     "name": "stderr",
     "output_type": "stream",
     "text": [
      "\n",
      "Attaching package: ‘dplyr’\n",
      "\n",
      "\n",
      "The following objects are masked from ‘package:stats’:\n",
      "\n",
      "    filter, lag\n",
      "\n",
      "\n",
      "The following objects are masked from ‘package:base’:\n",
      "\n",
      "    intersect, setdiff, setequal, union\n",
      "\n",
      "\n"
     ]
    }
   ],
   "source": [
    "library(dplyr)\n",
    "library(DBI)"
   ]
  },
  {
   "cell_type": "code",
   "execution_count": 2,
   "metadata": {
    "vscode": {
     "languageId": "r"
    }
   },
   "outputs": [],
   "source": [
    "issue_con <- function() {\n",
    "    # assume you are using config package and Postgres\n",
    "    crd <- config::get()\n",
    "    DBI::dbConnect(\n",
    "        drv = RPostgres::Postgres(),\n",
    "        host = crd$host,\n",
    "        port = crd$port,\n",
    "        dbname = crd$dbname,\n",
    "        user = crd$user,\n",
    "        password = crd$password\n",
    "    )\n",
    "}\n",
    "\n",
    "release_cons <- function(search_from = ls(\".GlobalEnv\"), except = NULL) {\n",
    "    purrr::map_chr(\n",
    "        .x = search_from %>% base::setdiff(except),\n",
    "        .f = function(x) {\n",
    "            ret <- \"\"\n",
    "            if (x %>% get() %>%\n",
    "                {\n",
    "                    inherits(., \"PqConnection\") & length(.) == 1\n",
    "                }) {\n",
    "                ret <- tryCatch(\n",
    "                    {\n",
    "                        x %>%\n",
    "                            get() %>%\n",
    "                            DBI::dbDisconnect()\n",
    "                        return(x)\n",
    "                    },\n",
    "                    error = function(e) {\n",
    "                        msg <- paste(\"Invalid PqConnection class object is provided:\", x)\n",
    "                        message(msg)\n",
    "                    },\n",
    "                    warning = function(e) {\n",
    "                        return(\"\")\n",
    "                    }\n",
    "                )\n",
    "            }\n",
    "            return(ret)\n",
    "        }\n",
    "    ) %>% .[. != \"\"]\n",
    "}"
   ]
  },
  {
   "cell_type": "code",
   "execution_count": 3,
   "metadata": {
    "vscode": {
     "languageId": "r"
    }
   },
   "outputs": [],
   "source": [
    "refresh_con <- function(){\n",
    "\trelease_cons()\n",
    "\tissue_con()\n",
    "}"
   ]
  },
  {
   "cell_type": "code",
   "execution_count": 4,
   "metadata": {
    "vscode": {
     "languageId": "r"
    }
   },
   "outputs": [],
   "source": [
    "dbCreateView <- function(con, name, sql, or_replace = FALSE, temporary = FALSE) {\n",
    "    if (sql %>% inherits(c(\"character\", \"SQL\")) %>% isFALSE()) stop(\"provided sql string is not of class character or SQL.\")\n",
    "    con %>%\n",
    "        DBI::sqlInterpolate(\n",
    "            sql = \"CREATE ?or ?tmp VIEW ?name AS ?q\",\n",
    "            or = dplyr::if_else(or_replace, \"OR REPLACE\", \"\") %>% DBI::SQL(),\n",
    "            tmp = dplyr::if_else(temporary, \"TEMPORARY\", \"\") %>% DBI::SQL(),\n",
    "            name = DBI::dbQuoteIdentifier(., name),\n",
    "            q = sql %>% DBI::SQL()\n",
    "        ) %>%\n",
    "        DBI::dbExecute(con, .)\n",
    "    invisible(TRUE) %>% return()\n",
    "}\n",
    "\n",
    "dbDropView <- function(con, name, if_exists = FALSE, cascade = FALSE) {\n",
    "    before <- con %>%\n",
    "        dbListViews() %>%\n",
    "        length()\n",
    "    con %>%\n",
    "        DBI::sqlInterpolate(\n",
    "            sql = \"DROP VIEW ?if_ex ?name ?cas_res\",\n",
    "            if_ex = dplyr::if_else(if_exists, \"IF EXISTS\", \"\") %>% DBI::SQL(),\n",
    "            name = DBI::dbQuoteIdentifier(con, name),\n",
    "            cas_res = dplyr::if_else(cascade, \"CASCADE\", \"RESTRICT\") %>% SQL()\n",
    "        ) %>%\n",
    "        DBI::dbExecute(con, .)\n",
    "    before - (con %>% dbListViews() %>% length()) %>% invisible()\n",
    "}"
   ]
  },
  {
   "cell_type": "code",
   "execution_count": 6,
   "metadata": {
    "vscode": {
     "languageId": "r"
    }
   },
   "outputs": [],
   "source": [
    "dbListViews <- function(con, permanent = TRUE, temporary = TRUE) {\n",
    "    ret <- character()\n",
    "    # this returns all views, temporary or not\n",
    "    list_views <- function(x) {\n",
    "        x %>%\n",
    "            dbListTables() %>%\n",
    "            setdiff(\n",
    "                x %>%\n",
    "                    DBI::dbGetQuery(\n",
    "                        statement = \"SELECT tablename FROM pg_tables WHERE schemaname = current_schema()\"\n",
    "                    ) %>% pull(1)\n",
    "            )\n",
    "    }\n",
    "    # retruns only non-temporary views\n",
    "    parm_views <- function(x) {\n",
    "        x %>%\n",
    "            dbGetQuery(\n",
    "                statement = \"SELECT viewname FROM pg_views WHERE schemaname = current_schema()\"\n",
    "            ) %>%\n",
    "            pull(1)\n",
    "    }\n",
    "    # we can't use dplyr::case_when here, which requires the returned values be the same type and the same length.\n",
    "    if (permanent & temporary) {\n",
    "        ret <- con %>% list_views()\n",
    "    } else if (permanent) {\n",
    "        ret <- con %>% parm_views()\n",
    "    } else if (temporary) {\n",
    "        ret <- con %>%\n",
    "            list_views() %>%\n",
    "            setdiff(con %>% parm_views())\n",
    "    }\n",
    "    ret %>% return()\n",
    "}"
   ]
  },
  {
   "cell_type": "code",
   "execution_count": 10,
   "metadata": {
    "vscode": {
     "languageId": "r"
    }
   },
   "outputs": [],
   "source": [
    "con <- refresh_con()\n",
    "mtcars_inline <- con %>% dbplyr::copy_inline(mtcars)\n",
    "mtcars_inline_sql <- mtcars_inline %>% dbplyr::sql_render()\n",
    "con %>% dbCreateView(\n",
    "\tname = 'mtcars_view',\n",
    "\tsql = mtcars_inline_sql,\n",
    "\tor_replace = TRUE\n",
    ")"
   ]
  },
  {
   "cell_type": "code",
   "execution_count": 16,
   "metadata": {
    "vscode": {
     "languageId": "r"
    }
   },
   "outputs": [
    {
     "data": {
      "text/html": [
       "<style>\n",
       ".list-inline {list-style: none; margin:0; padding: 0}\n",
       ".list-inline>li {display: inline-block}\n",
       ".list-inline>li:not(:last-child)::after {content: \"\\00b7\"; padding: 0 .5ex}\n",
       "</style>\n",
       "<ol class=list-inline><li>'customer'</li><li>'category'</li><li>'geocode'</li><li>'product'</li><li>'receipt'</li><li>'store'</li><li>'mtcars_view'</li></ol>\n"
      ],
      "text/latex": [
       "\\begin{enumerate*}\n",
       "\\item 'customer'\n",
       "\\item 'category'\n",
       "\\item 'geocode'\n",
       "\\item 'product'\n",
       "\\item 'receipt'\n",
       "\\item 'store'\n",
       "\\item 'mtcars\\_view'\n",
       "\\end{enumerate*}\n"
      ],
      "text/markdown": [
       "1. 'customer'\n",
       "2. 'category'\n",
       "3. 'geocode'\n",
       "4. 'product'\n",
       "5. 'receipt'\n",
       "6. 'store'\n",
       "7. 'mtcars_view'\n",
       "\n",
       "\n"
      ],
      "text/plain": [
       "[1] \"customer\"    \"category\"    \"geocode\"     \"product\"     \"receipt\"    \n",
       "[6] \"store\"       \"mtcars_view\""
      ]
     },
     "metadata": {},
     "output_type": "display_data"
    },
    {
     "data": {
      "text/plain": [
       "\u001b[90m# Source:   SQL [1 x 1]\u001b[39m\n",
       "\u001b[90m# Database: postgres  [guest@localhost:5432/knock100]\u001b[39m\n",
       "        n\n",
       "  \u001b[3m\u001b[90m<int64>\u001b[39m\u001b[23m\n",
       "\u001b[90m1\u001b[39m      32"
      ]
     },
     "metadata": {},
     "output_type": "display_data"
    },
    {
     "data": {
      "text/html": [
       "1"
      ],
      "text/latex": [
       "1"
      ],
      "text/markdown": [
       "1"
      ],
      "text/plain": [
       "[1] 1"
      ]
     },
     "metadata": {},
     "output_type": "display_data"
    }
   ],
   "source": [
    "# view on copy_inline() survives after disconnection\n",
    "con <- refresh_con()\n",
    "con %>% dbListTables()\n",
    "con %>% tbl('mtcars_view') %>% count()\n",
    "con %>% dbDropView('mtcars_view')"
   ]
  },
  {
   "cell_type": "code",
   "execution_count": 20,
   "metadata": {
    "vscode": {
     "languageId": "r"
    }
   },
   "outputs": [
    {
     "data": {
      "text/html": [
       "<style>\n",
       ".list-inline {list-style: none; margin:0; padding: 0}\n",
       ".list-inline>li {display: inline-block}\n",
       ".list-inline>li:not(:last-child)::after {content: \"\\00b7\"; padding: 0 .5ex}\n",
       "</style>\n",
       "<ol class=list-inline><li>'customer'</li><li>'category'</li><li>'geocode'</li><li>'product'</li><li>'receipt'</li><li>'store'</li><li>'mtcars_table'</li></ol>\n"
      ],
      "text/latex": [
       "\\begin{enumerate*}\n",
       "\\item 'customer'\n",
       "\\item 'category'\n",
       "\\item 'geocode'\n",
       "\\item 'product'\n",
       "\\item 'receipt'\n",
       "\\item 'store'\n",
       "\\item 'mtcars\\_table'\n",
       "\\end{enumerate*}\n"
      ],
      "text/markdown": [
       "1. 'customer'\n",
       "2. 'category'\n",
       "3. 'geocode'\n",
       "4. 'product'\n",
       "5. 'receipt'\n",
       "6. 'store'\n",
       "7. 'mtcars_table'\n",
       "\n",
       "\n"
      ],
      "text/plain": [
       "[1] \"customer\"     \"category\"     \"geocode\"      \"product\"      \"receipt\"     \n",
       "[6] \"store\"        \"mtcars_table\""
      ]
     },
     "metadata": {},
     "output_type": "display_data"
    },
    {
     "data": {
      "text/html": [
       "<style>\n",
       ".list-inline {list-style: none; margin:0; padding: 0}\n",
       ".list-inline>li {display: inline-block}\n",
       ".list-inline>li:not(:last-child)::after {content: \"\\00b7\"; padding: 0 .5ex}\n",
       "</style>\n",
       "<ol class=list-inline><li>'customer'</li><li>'category'</li><li>'geocode'</li><li>'product'</li><li>'receipt'</li><li>'store'</li></ol>\n"
      ],
      "text/latex": [
       "\\begin{enumerate*}\n",
       "\\item 'customer'\n",
       "\\item 'category'\n",
       "\\item 'geocode'\n",
       "\\item 'product'\n",
       "\\item 'receipt'\n",
       "\\item 'store'\n",
       "\\end{enumerate*}\n"
      ],
      "text/markdown": [
       "1. 'customer'\n",
       "2. 'category'\n",
       "3. 'geocode'\n",
       "4. 'product'\n",
       "5. 'receipt'\n",
       "6. 'store'\n",
       "\n",
       "\n"
      ],
      "text/plain": [
       "[1] \"customer\" \"category\" \"geocode\"  \"product\"  \"receipt\"  \"store\"   "
      ]
     },
     "metadata": {},
     "output_type": "display_data"
    }
   ],
   "source": [
    "# case: copy_to()\n",
    "con %>% copy_to(\n",
    "\tdf = mtcars,\n",
    "\tname = 'mtcars_table'\n",
    ")\n",
    "con %>% dbListTables()\n",
    "con <- refresh_con()\n",
    "con %>% dbListTables()"
   ]
  },
  {
   "cell_type": "code",
   "execution_count": 23,
   "metadata": {
    "vscode": {
     "languageId": "r"
    }
   },
   "outputs": [
    {
     "name": "stderr",
     "output_type": "stream",
     "text": [
      "NOTICE:  view \"mtcars_view\" will be a temporary view\n",
      "\n",
      "\n"
     ]
    },
    {
     "data": {
      "text/html": [
       "<style>\n",
       ".list-inline {list-style: none; margin:0; padding: 0}\n",
       ".list-inline>li {display: inline-block}\n",
       ".list-inline>li:not(:last-child)::after {content: \"\\00b7\"; padding: 0 .5ex}\n",
       "</style>\n",
       "<ol class=list-inline><li>'customer'</li><li>'category'</li><li>'mtcars_table'</li><li>'mtcars_view'</li><li>'geocode'</li><li>'product'</li><li>'receipt'</li><li>'store'</li></ol>\n"
      ],
      "text/latex": [
       "\\begin{enumerate*}\n",
       "\\item 'customer'\n",
       "\\item 'category'\n",
       "\\item 'mtcars\\_table'\n",
       "\\item 'mtcars\\_view'\n",
       "\\item 'geocode'\n",
       "\\item 'product'\n",
       "\\item 'receipt'\n",
       "\\item 'store'\n",
       "\\end{enumerate*}\n"
      ],
      "text/markdown": [
       "1. 'customer'\n",
       "2. 'category'\n",
       "3. 'mtcars_table'\n",
       "4. 'mtcars_view'\n",
       "5. 'geocode'\n",
       "6. 'product'\n",
       "7. 'receipt'\n",
       "8. 'store'\n",
       "\n",
       "\n"
      ],
      "text/plain": [
       "[1] \"customer\"     \"category\"     \"mtcars_table\" \"mtcars_view\"  \"geocode\"     \n",
       "[6] \"product\"      \"receipt\"      \"store\"       "
      ]
     },
     "metadata": {},
     "output_type": "display_data"
    },
    {
     "data": {
      "text/html": [
       "<style>\n",
       ".list-inline {list-style: none; margin:0; padding: 0}\n",
       ".list-inline>li {display: inline-block}\n",
       ".list-inline>li:not(:last-child)::after {content: \"\\00b7\"; padding: 0 .5ex}\n",
       "</style>\n",
       "<ol class=list-inline><li>'customer'</li><li>'category'</li><li>'geocode'</li><li>'product'</li><li>'receipt'</li><li>'store'</li></ol>\n"
      ],
      "text/latex": [
       "\\begin{enumerate*}\n",
       "\\item 'customer'\n",
       "\\item 'category'\n",
       "\\item 'geocode'\n",
       "\\item 'product'\n",
       "\\item 'receipt'\n",
       "\\item 'store'\n",
       "\\end{enumerate*}\n"
      ],
      "text/markdown": [
       "1. 'customer'\n",
       "2. 'category'\n",
       "3. 'geocode'\n",
       "4. 'product'\n",
       "5. 'receipt'\n",
       "6. 'store'\n",
       "\n",
       "\n"
      ],
      "text/plain": [
       "[1] \"customer\" \"category\" \"geocode\"  \"product\"  \"receipt\"  \"store\"   "
      ]
     },
     "metadata": {},
     "output_type": "display_data"
    }
   ],
   "source": [
    "# \n",
    "con <- refresh_con()\n",
    "con %>% copy_to(\n",
    "\tdf = mtcars,\n",
    "\tname = 'mtcars_table'\n",
    ")\n",
    "con %>% dbCreateView(\n",
    "\tname = 'mtcars_view',\n",
    "\tsql = \"SELECT * FROM mtcars_table\"\n",
    ")\n",
    "con %>% dbListTables()\n",
    "con <- refresh_con()\n",
    "con %>% dbListTables()"
   ]
  },
  {
   "cell_type": "code",
   "execution_count": 27,
   "metadata": {
    "vscode": {
     "languageId": "r"
    }
   },
   "outputs": [
    {
     "data": {
      "text/html": [
       "<style>\n",
       ".list-inline {list-style: none; margin:0; padding: 0}\n",
       ".list-inline>li {display: inline-block}\n",
       ".list-inline>li:not(:last-child)::after {content: \"\\00b7\"; padding: 0 .5ex}\n",
       "</style>\n",
       "<ol class=list-inline><li>'customer'</li><li>'receipt_copied'</li><li>'category'</li><li>'geocode'</li><li>'product'</li><li>'receipt'</li><li>'store'</li></ol>\n"
      ],
      "text/latex": [
       "\\begin{enumerate*}\n",
       "\\item 'customer'\n",
       "\\item 'receipt\\_copied'\n",
       "\\item 'category'\n",
       "\\item 'geocode'\n",
       "\\item 'product'\n",
       "\\item 'receipt'\n",
       "\\item 'store'\n",
       "\\end{enumerate*}\n"
      ],
      "text/markdown": [
       "1. 'customer'\n",
       "2. 'receipt_copied'\n",
       "3. 'category'\n",
       "4. 'geocode'\n",
       "5. 'product'\n",
       "6. 'receipt'\n",
       "7. 'store'\n",
       "\n",
       "\n"
      ],
      "text/plain": [
       "[1] \"customer\"       \"receipt_copied\" \"category\"       \"geocode\"       \n",
       "[5] \"product\"        \"receipt\"        \"store\"         "
      ]
     },
     "metadata": {},
     "output_type": "display_data"
    },
    {
     "data": {
      "text/html": [
       "<style>\n",
       ".list-inline {list-style: none; margin:0; padding: 0}\n",
       ".list-inline>li {display: inline-block}\n",
       ".list-inline>li:not(:last-child)::after {content: \"\\00b7\"; padding: 0 .5ex}\n",
       "</style>\n",
       "<ol class=list-inline><li>'customer'</li><li>'category'</li><li>'geocode'</li><li>'product'</li><li>'receipt'</li><li>'store'</li></ol>\n"
      ],
      "text/latex": [
       "\\begin{enumerate*}\n",
       "\\item 'customer'\n",
       "\\item 'category'\n",
       "\\item 'geocode'\n",
       "\\item 'product'\n",
       "\\item 'receipt'\n",
       "\\item 'store'\n",
       "\\end{enumerate*}\n"
      ],
      "text/markdown": [
       "1. 'customer'\n",
       "2. 'category'\n",
       "3. 'geocode'\n",
       "4. 'product'\n",
       "5. 'receipt'\n",
       "6. 'store'\n",
       "\n",
       "\n"
      ],
      "text/plain": [
       "[1] \"customer\" \"category\" \"geocode\"  \"product\"  \"receipt\"  \"store\"   "
      ]
     },
     "metadata": {},
     "output_type": "display_data"
    }
   ],
   "source": [
    "con %>%\n",
    "    tbl(\"receipt\") %>%\n",
    "    filter(amount >= 1000) %>%\n",
    "    copy_to(\n",
    "\t\tdest = con,\n",
    "\t df = .,\n",
    "\t name = 'receipt_copied'\n",
    "\t ) # from tbl_lazy to table\n",
    "con %>% dbListTables()\n",
    "con %>% dbDisconnect()\n",
    "con <- issue_con()\n",
    "con %>% dbListTables()"
   ]
  }
 ],
 "metadata": {
  "kernelspec": {
   "display_name": "R",
   "language": "R",
   "name": "ir"
  },
  "language_info": {
   "codemirror_mode": "r",
   "file_extension": ".r",
   "mimetype": "text/x-r-source",
   "name": "R",
   "pygments_lexer": "r",
   "version": "4.2.0"
  },
  "orig_nbformat": 4
 },
 "nbformat": 4,
 "nbformat_minor": 2
}
